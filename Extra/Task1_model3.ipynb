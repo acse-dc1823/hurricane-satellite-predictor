{
  "cells": [
    {
      "cell_type": "code",
      "source": [
        "from google.colab import drive\n",
        "drive.mount('/content/drive')"
      ],
      "metadata": {
        "colab": {
          "base_uri": "https://localhost:8080/"
        },
        "id": "PnH2Zi1Vj9h4",
        "outputId": "a6559f7c-b434-49d6-dfb1-4e1cc530bb9d"
      },
      "execution_count": 1,
      "outputs": [
        {
          "output_type": "stream",
          "name": "stdout",
          "text": [
            "Mounted at /content/drive\n"
          ]
        }
      ]
    },
    {
      "cell_type": "code",
      "execution_count": 2,
      "metadata": {
        "id": "8zHunoFcj8Zm"
      },
      "outputs": [],
      "source": [
        "import os\n",
        "import json\n",
        "from tqdm import tqdm\n",
        "\n",
        "import shutil\n",
        "# util function\n",
        "def create_or_clear_folder(folder_path):\n",
        "    # Check whether the folder exists\n",
        "    if os.path.exists(folder_path):\n",
        "        # If the folder exists, delete it and recreate it\n",
        "        shutil.rmtree(folder_path)\n",
        "        os.makedirs(folder_path)\n",
        "    else:\n",
        "        # If the folder does not exist, create it\n",
        "        os.makedirs(folder_path)"
      ]
    },
    {
      "cell_type": "code",
      "source": [
        "data_folder = \"/content/drive/MyDrive/ACDS/Selected_Storms_curated\"\n"
      ],
      "metadata": {
        "id": "Bf6TLK2akP8f"
      },
      "execution_count": 3,
      "outputs": []
    },
    {
      "cell_type": "markdown",
      "source": [
        "# Dataset\n",
        "Use two-dimensional lists to store image information"
      ],
      "metadata": {
        "id": "OHxb3WlGk8u7"
      }
    },
    {
      "cell_type": "code",
      "execution_count": 4,
      "metadata": {
        "colab": {
          "base_uri": "https://localhost:8080/"
        },
        "id": "jo7vmR1Ij8Zm",
        "outputId": "9f3120bd-495b-4667-d5f0-99f9b77375e2"
      },
      "outputs": [
        {
          "output_type": "stream",
          "name": "stdout",
          "text": [
            "['hig', 'gme', 'woc', 'blq', 'kqu', 'wsy', 'ipa', 'ztb', 'gkf', 'qpq', 'pjj', 'rml', 'xjo', 'vxf', 'fgi', 'gic', 'fna', 'ing', 'yfn', 'ywf', 'mtw', 'eoi', 'sxb', 'vye', 'zny', 'psz', 'pvj', 'dzw', 'ojv', 'bkh']\n",
            "hig\n",
            "gme\n",
            "woc\n",
            "blq\n",
            "kqu\n",
            "wsy\n",
            "ipa\n",
            "ztb\n",
            "gkf\n",
            "qpq\n",
            "pjj\n",
            "rml\n",
            "xjo\n",
            "vxf\n",
            "fgi\n",
            "gic\n",
            "fna\n",
            "ing\n",
            "yfn\n",
            "ywf\n",
            "mtw\n",
            "eoi\n",
            "sxb\n",
            "vye\n",
            "zny\n",
            "psz\n",
            "pvj\n",
            "dzw\n",
            "ojv\n",
            "bkh\n"
          ]
        }
      ],
      "source": [
        "# load data\n",
        "\n",
        "samples = []\n",
        "\n",
        "subfolder = os.listdir(data_folder)\n",
        "print(subfolder)\n",
        "for fol in subfolder:\n",
        "    print(fol)\n",
        "    now_sample = []\n",
        "    wind_folder = os.path.join(data_folder, fol)\n",
        "    useful_data = list(set([f[:7] for f in os.listdir(wind_folder) if f.startswith(fol)]))\n",
        "    for name in useful_data:\n",
        "        image_path = os.path.join(wind_folder, name+'.jpg')\n",
        "        json_path = os.path.join(wind_folder, name+'_features.json')\n",
        "        time = eval(json.load(open(json_path,'r'))['relative_time'])\n",
        "        now_sample.append((image_path, time))\n",
        "    now_sample.sort(key=lambda x: x[1])\n",
        "    samples.append(now_sample)"
      ]
    },
    {
      "cell_type": "code",
      "source": [
        "len(samples)"
      ],
      "metadata": {
        "colab": {
          "base_uri": "https://localhost:8080/"
        },
        "id": "KVmBvwqeoB0P",
        "outputId": "84ed251e-c71e-4de8-e846-d0640631bcd5"
      },
      "execution_count": 5,
      "outputs": [
        {
          "output_type": "execute_result",
          "data": {
            "text/plain": [
              "30"
            ]
          },
          "metadata": {},
          "execution_count": 5
        }
      ]
    },
    {
      "cell_type": "markdown",
      "source": [
        "# Time Embedding\n",
        "After EDA analysis, it was noticed that the sample number and the standard deviation and precision difference of the time interval between different types of storms were different, so the means of time coding was adopted here (considering the time limit of the overall development process, a relatively simple way was chosen)."
      ],
      "metadata": {
        "id": "jwz_7JNUgaZt"
      }
    },
    {
      "cell_type": "markdown",
      "source": [],
      "metadata": {
        "id": "zOTFfYrMFRTJ"
      }
    },
    {
      "cell_type": "markdown",
      "source": [
        "\n",
        "The code processes image sequences with the following steps:\n",
        "\n",
        "1. **Image Sequence Extraction**: Sequentially selects images from a specified index to form a complete sequence, including historical images and future images for prediction. The length of the historical image sequence is defined by `self.sequence_length`, and the length of the future image sequence for prediction is defined by `self.pre_len`.\n",
        "2. **Image Loading**: Loads images from a pre-processed list of image data to avoid repetitive disk reads, enhancing efficiency.\n",
        "3. **Time ID Calculation**: Calculates a time ID for each image, indicating the time difference from the first image in the sequence, to capture the temporal dimension.\n",
        "4. **Sequence Division**: Divides the complete image sequence into two parts: a sequence of historical images for model input and a sequence of future images for prediction."
      ],
      "metadata": {
        "id": "WMtYJc8KP8BM"
      }
    },
    {
      "cell_type": "code",
      "execution_count": 6,
      "metadata": {
        "id": "ovG0VMxkj8Zn"
      },
      "outputs": [],
      "source": [
        "import torch\n",
        "from torch.utils.data import Dataset, DataLoader\n",
        "from PIL import Image\n",
        "from torchvision import transforms\n",
        "\n",
        "\n",
        "transform = transforms.Compose([\n",
        "    transforms.Resize((366, 366)),\n",
        "    transforms.ToTensor(),\n",
        "\n",
        "    # transforms.Normalize(mean=[0.485, 0.456, 0.406], std=[0.229, 0.224, 0.225])  #\n",
        "])\n",
        "\n",
        "class ImageSequenceDataset(Dataset):\n",
        "    def __init__(self, data, sequence_length=6, pre_len=3, transform=None) -> None:\n",
        "        super().__init__()\n",
        "        self.data = data\n",
        "        self.sequence_length = sequence_length\n",
        "        self.pre_len = pre_len\n",
        "        self.transform = transform\n",
        "\n",
        "        self.data_id = []\n",
        "        for i, d in enumerate(self.data):\n",
        "            for j in range(len(d)-sequence_length-pre_len+1):\n",
        "                self.data_id.append((i, j))\n",
        "\n",
        "        self.img_data = []\n",
        "        for wd in tqdm(self.data, desc='Processing Data'):\n",
        "            now_img = []\n",
        "            for image_path, time in wd:\n",
        "                image = Image.open(image_path).convert('L')\n",
        "\n",
        "                if self.transform:\n",
        "                    image = self.transform(image)\n",
        "                now_img.append(image)\n",
        "            self.img_data.append(now_img)\n",
        "\n",
        "    def __len__(self):\n",
        "        return len(self.data_id)\n",
        "\n",
        "    def __getitem__(self, idx):\n",
        "        wind_id, sample_id = self.data_id[idx]\n",
        "        time_start = self.data[wind_id][sample_id][1] #Start time time ➗1000 is the time embedding id\n",
        "\n",
        "        images = []\n",
        "        times = []\n",
        "\n",
        "        for i in range(sample_id, sample_id+self.sequence_length+self.pre_len):\n",
        "            image_path, time = self.data[wind_id][i]\n",
        "\n",
        "            image = self.img_data[wind_id][i]\n",
        "            images.append(image)\n",
        "            time_id = (time-time_start)//1000\n",
        "            if time_id > 49:time_id = 49\n",
        "            elif time_id <0:time_id = 0\n",
        "\n",
        "\n",
        "            times.append(time_id)\n",
        "            time_start = time\n",
        "\n",
        "        sequence_images = images[:self.sequence_length]\n",
        "        prediction_images = images[self.sequence_length:]\n",
        "\n",
        "        sequence_images = torch.stack(sequence_images)\n",
        "        prediction_images = torch.stack(prediction_images)\n",
        "        times = torch.LongTensor(times)\n",
        "\n",
        "        return sequence_images, prediction_images, times"
      ]
    },
    {
      "cell_type": "markdown",
      "source": [
        "Add for some tests"
      ],
      "metadata": {
        "id": "Xx0aXxUxo37x"
      }
    },
    {
      "cell_type": "markdown",
      "source": [
        "This means using GME to simulate an unknown storm forecast. Measure our model by setting GME as a test set and seeing how the model performs on it"
      ],
      "metadata": {
        "id": "bAhLuqLp2NoQ"
      }
    },
    {
      "cell_type": "code",
      "execution_count": 13,
      "metadata": {
        "colab": {
          "base_uri": "https://localhost:8080/"
        },
        "id": "GUtZjkC1j8Zn",
        "outputId": "f2931d5e-8dcf-4d05-c2b1-200a2db86d15"
      },
      "outputs": [
        {
          "output_type": "stream",
          "name": "stdout",
          "text": [
            "Test wind - bkh\n"
          ]
        },
        {
          "output_type": "stream",
          "name": "stderr",
          "text": [
            "Processing Data: 100%|██████████| 29/29 [00:45<00:00,  1.58s/it]\n",
            "Processing Data: 100%|██████████| 1/1 [00:02<00:00,  2.14s/it]\n"
          ]
        }
      ],
      "source": [
        "# print(f\"Test wind - {subfolder[-1]}\")\n",
        "# train_dataset = ImageSequenceDataset(samples[:-1], transform=transform)\n",
        "# test_dataset = ImageSequenceDataset(samples[-1:], transform=transform)\n",
        "\n",
        "# train_dataloader = DataLoader(train_dataset,\n",
        "#                         batch_size=8,\n",
        "#                         shuffle=True)\n",
        "\n",
        "# test_dataloader = DataLoader(train_dataset,\n",
        "#                         batch_size=8,\n",
        "#                         shuffle=False)"
      ]
    },
    {
      "cell_type": "code",
      "source": [
        "train_samples = [sample for i, sample in enumerate(samples) if i != 1]  # no 'gme'\n",
        "test_samples = [samples[1]]  # only gme"
      ],
      "metadata": {
        "id": "gc6SCh-xuocA"
      },
      "execution_count": 7,
      "outputs": []
    },
    {
      "cell_type": "code",
      "source": [
        "test_samples"
      ],
      "metadata": {
        "colab": {
          "base_uri": "https://localhost:8080/"
        },
        "id": "fLR76DIHwFR9",
        "outputId": "575dac4e-2713-420b-839a-7bb463ef9e0c"
      },
      "execution_count": 8,
      "outputs": [
        {
          "output_type": "execute_result",
          "data": {
            "text/plain": [
              "[[('/content/drive/MyDrive/ACDS/Selected_Storms_curated/gme/gme_000.jpg', 0),\n",
              "  ('/content/drive/MyDrive/ACDS/Selected_Storms_curated/gme/gme_001.jpg',\n",
              "   1800),\n",
              "  ('/content/drive/MyDrive/ACDS/Selected_Storms_curated/gme/gme_002.jpg',\n",
              "   3600),\n",
              "  ('/content/drive/MyDrive/ACDS/Selected_Storms_curated/gme/gme_003.jpg',\n",
              "   5400),\n",
              "  ('/content/drive/MyDrive/ACDS/Selected_Storms_curated/gme/gme_004.jpg',\n",
              "   7200),\n",
              "  ('/content/drive/MyDrive/ACDS/Selected_Storms_curated/gme/gme_005.jpg',\n",
              "   10801),\n",
              "  ('/content/drive/MyDrive/ACDS/Selected_Storms_curated/gme/gme_006.jpg',\n",
              "   12602),\n",
              "  ('/content/drive/MyDrive/ACDS/Selected_Storms_curated/gme/gme_007.jpg',\n",
              "   14401),\n",
              "  ('/content/drive/MyDrive/ACDS/Selected_Storms_curated/gme/gme_008.jpg',\n",
              "   16201),\n",
              "  ('/content/drive/MyDrive/ACDS/Selected_Storms_curated/gme/gme_009.jpg',\n",
              "   18002),\n",
              "  ('/content/drive/MyDrive/ACDS/Selected_Storms_curated/gme/gme_010.jpg',\n",
              "   21601),\n",
              "  ('/content/drive/MyDrive/ACDS/Selected_Storms_curated/gme/gme_011.jpg',\n",
              "   23402),\n",
              "  ('/content/drive/MyDrive/ACDS/Selected_Storms_curated/gme/gme_012.jpg',\n",
              "   25201),\n",
              "  ('/content/drive/MyDrive/ACDS/Selected_Storms_curated/gme/gme_013.jpg',\n",
              "   27002),\n",
              "  ('/content/drive/MyDrive/ACDS/Selected_Storms_curated/gme/gme_014.jpg',\n",
              "   28801),\n",
              "  ('/content/drive/MyDrive/ACDS/Selected_Storms_curated/gme/gme_015.jpg',\n",
              "   32402),\n",
              "  ('/content/drive/MyDrive/ACDS/Selected_Storms_curated/gme/gme_016.jpg',\n",
              "   34201),\n",
              "  ('/content/drive/MyDrive/ACDS/Selected_Storms_curated/gme/gme_017.jpg',\n",
              "   36002),\n",
              "  ('/content/drive/MyDrive/ACDS/Selected_Storms_curated/gme/gme_018.jpg',\n",
              "   37801),\n",
              "  ('/content/drive/MyDrive/ACDS/Selected_Storms_curated/gme/gme_019.jpg',\n",
              "   39601),\n",
              "  ('/content/drive/MyDrive/ACDS/Selected_Storms_curated/gme/gme_020.jpg',\n",
              "   43201),\n",
              "  ('/content/drive/MyDrive/ACDS/Selected_Storms_curated/gme/gme_021.jpg',\n",
              "   45001),\n",
              "  ('/content/drive/MyDrive/ACDS/Selected_Storms_curated/gme/gme_022.jpg',\n",
              "   46802),\n",
              "  ('/content/drive/MyDrive/ACDS/Selected_Storms_curated/gme/gme_023.jpg',\n",
              "   48601),\n",
              "  ('/content/drive/MyDrive/ACDS/Selected_Storms_curated/gme/gme_024.jpg',\n",
              "   50402),\n",
              "  ('/content/drive/MyDrive/ACDS/Selected_Storms_curated/gme/gme_025.jpg',\n",
              "   54000),\n",
              "  ('/content/drive/MyDrive/ACDS/Selected_Storms_curated/gme/gme_026.jpg',\n",
              "   55800),\n",
              "  ('/content/drive/MyDrive/ACDS/Selected_Storms_curated/gme/gme_027.jpg',\n",
              "   57600),\n",
              "  ('/content/drive/MyDrive/ACDS/Selected_Storms_curated/gme/gme_028.jpg',\n",
              "   59400),\n",
              "  ('/content/drive/MyDrive/ACDS/Selected_Storms_curated/gme/gme_029.jpg',\n",
              "   61200),\n",
              "  ('/content/drive/MyDrive/ACDS/Selected_Storms_curated/gme/gme_030.jpg',\n",
              "   64802),\n",
              "  ('/content/drive/MyDrive/ACDS/Selected_Storms_curated/gme/gme_031.jpg',\n",
              "   66600),\n",
              "  ('/content/drive/MyDrive/ACDS/Selected_Storms_curated/gme/gme_032.jpg',\n",
              "   68401),\n",
              "  ('/content/drive/MyDrive/ACDS/Selected_Storms_curated/gme/gme_033.jpg',\n",
              "   70200),\n",
              "  ('/content/drive/MyDrive/ACDS/Selected_Storms_curated/gme/gme_034.jpg',\n",
              "   72000),\n",
              "  ('/content/drive/MyDrive/ACDS/Selected_Storms_curated/gme/gme_035.jpg',\n",
              "   75600),\n",
              "  ('/content/drive/MyDrive/ACDS/Selected_Storms_curated/gme/gme_036.jpg',\n",
              "   77400),\n",
              "  ('/content/drive/MyDrive/ACDS/Selected_Storms_curated/gme/gme_037.jpg',\n",
              "   79200),\n",
              "  ('/content/drive/MyDrive/ACDS/Selected_Storms_curated/gme/gme_038.jpg',\n",
              "   80999),\n",
              "  ('/content/drive/MyDrive/ACDS/Selected_Storms_curated/gme/gme_039.jpg',\n",
              "   82800),\n",
              "  ('/content/drive/MyDrive/ACDS/Selected_Storms_curated/gme/gme_040.jpg',\n",
              "   86399),\n",
              "  ('/content/drive/MyDrive/ACDS/Selected_Storms_curated/gme/gme_041.jpg',\n",
              "   88200),\n",
              "  ('/content/drive/MyDrive/ACDS/Selected_Storms_curated/gme/gme_042.jpg',\n",
              "   90000),\n",
              "  ('/content/drive/MyDrive/ACDS/Selected_Storms_curated/gme/gme_043.jpg',\n",
              "   91800),\n",
              "  ('/content/drive/MyDrive/ACDS/Selected_Storms_curated/gme/gme_044.jpg',\n",
              "   93600),\n",
              "  ('/content/drive/MyDrive/ACDS/Selected_Storms_curated/gme/gme_045.jpg',\n",
              "   97201),\n",
              "  ('/content/drive/MyDrive/ACDS/Selected_Storms_curated/gme/gme_046.jpg',\n",
              "   99002),\n",
              "  ('/content/drive/MyDrive/ACDS/Selected_Storms_curated/gme/gme_047.jpg',\n",
              "   100801),\n",
              "  ('/content/drive/MyDrive/ACDS/Selected_Storms_curated/gme/gme_048.jpg',\n",
              "   102601),\n",
              "  ('/content/drive/MyDrive/ACDS/Selected_Storms_curated/gme/gme_049.jpg',\n",
              "   104402),\n",
              "  ('/content/drive/MyDrive/ACDS/Selected_Storms_curated/gme/gme_050.jpg',\n",
              "   108002),\n",
              "  ('/content/drive/MyDrive/ACDS/Selected_Storms_curated/gme/gme_051.jpg',\n",
              "   109801),\n",
              "  ('/content/drive/MyDrive/ACDS/Selected_Storms_curated/gme/gme_052.jpg',\n",
              "   111601),\n",
              "  ('/content/drive/MyDrive/ACDS/Selected_Storms_curated/gme/gme_053.jpg',\n",
              "   113402),\n",
              "  ('/content/drive/MyDrive/ACDS/Selected_Storms_curated/gme/gme_054.jpg',\n",
              "   115201),\n",
              "  ('/content/drive/MyDrive/ACDS/Selected_Storms_curated/gme/gme_055.jpg',\n",
              "   118801),\n",
              "  ('/content/drive/MyDrive/ACDS/Selected_Storms_curated/gme/gme_056.jpg',\n",
              "   120601),\n",
              "  ('/content/drive/MyDrive/ACDS/Selected_Storms_curated/gme/gme_057.jpg',\n",
              "   122402),\n",
              "  ('/content/drive/MyDrive/ACDS/Selected_Storms_curated/gme/gme_058.jpg',\n",
              "   124201),\n",
              "  ('/content/drive/MyDrive/ACDS/Selected_Storms_curated/gme/gme_059.jpg',\n",
              "   126001),\n",
              "  ('/content/drive/MyDrive/ACDS/Selected_Storms_curated/gme/gme_060.jpg',\n",
              "   129601),\n",
              "  ('/content/drive/MyDrive/ACDS/Selected_Storms_curated/gme/gme_061.jpg',\n",
              "   131402),\n",
              "  ('/content/drive/MyDrive/ACDS/Selected_Storms_curated/gme/gme_062.jpg',\n",
              "   133201),\n",
              "  ('/content/drive/MyDrive/ACDS/Selected_Storms_curated/gme/gme_063.jpg',\n",
              "   135001),\n",
              "  ('/content/drive/MyDrive/ACDS/Selected_Storms_curated/gme/gme_064.jpg',\n",
              "   136802),\n",
              "  ('/content/drive/MyDrive/ACDS/Selected_Storms_curated/gme/gme_065.jpg',\n",
              "   140400),\n",
              "  ('/content/drive/MyDrive/ACDS/Selected_Storms_curated/gme/gme_066.jpg',\n",
              "   142199),\n",
              "  ('/content/drive/MyDrive/ACDS/Selected_Storms_curated/gme/gme_067.jpg',\n",
              "   144000),\n",
              "  ('/content/drive/MyDrive/ACDS/Selected_Storms_curated/gme/gme_068.jpg',\n",
              "   145800),\n",
              "  ('/content/drive/MyDrive/ACDS/Selected_Storms_curated/gme/gme_069.jpg',\n",
              "   147599),\n",
              "  ('/content/drive/MyDrive/ACDS/Selected_Storms_curated/gme/gme_070.jpg',\n",
              "   151200),\n",
              "  ('/content/drive/MyDrive/ACDS/Selected_Storms_curated/gme/gme_071.jpg',\n",
              "   153000),\n",
              "  ('/content/drive/MyDrive/ACDS/Selected_Storms_curated/gme/gme_072.jpg',\n",
              "   154802),\n",
              "  ('/content/drive/MyDrive/ACDS/Selected_Storms_curated/gme/gme_073.jpg',\n",
              "   156600),\n",
              "  ('/content/drive/MyDrive/ACDS/Selected_Storms_curated/gme/gme_074.jpg',\n",
              "   158401),\n",
              "  ('/content/drive/MyDrive/ACDS/Selected_Storms_curated/gme/gme_075.jpg',\n",
              "   162000),\n",
              "  ('/content/drive/MyDrive/ACDS/Selected_Storms_curated/gme/gme_076.jpg',\n",
              "   163800),\n",
              "  ('/content/drive/MyDrive/ACDS/Selected_Storms_curated/gme/gme_077.jpg',\n",
              "   165600),\n",
              "  ('/content/drive/MyDrive/ACDS/Selected_Storms_curated/gme/gme_078.jpg',\n",
              "   167400),\n",
              "  ('/content/drive/MyDrive/ACDS/Selected_Storms_curated/gme/gme_079.jpg',\n",
              "   169200),\n",
              "  ('/content/drive/MyDrive/ACDS/Selected_Storms_curated/gme/gme_080.jpg',\n",
              "   172801),\n",
              "  ('/content/drive/MyDrive/ACDS/Selected_Storms_curated/gme/gme_081.jpg',\n",
              "   174601),\n",
              "  ('/content/drive/MyDrive/ACDS/Selected_Storms_curated/gme/gme_082.jpg',\n",
              "   176399),\n",
              "  ('/content/drive/MyDrive/ACDS/Selected_Storms_curated/gme/gme_083.jpg',\n",
              "   178200),\n",
              "  ('/content/drive/MyDrive/ACDS/Selected_Storms_curated/gme/gme_084.jpg',\n",
              "   180000),\n",
              "  ('/content/drive/MyDrive/ACDS/Selected_Storms_curated/gme/gme_085.jpg',\n",
              "   183601),\n",
              "  ('/content/drive/MyDrive/ACDS/Selected_Storms_curated/gme/gme_086.jpg',\n",
              "   185402),\n",
              "  ('/content/drive/MyDrive/ACDS/Selected_Storms_curated/gme/gme_087.jpg',\n",
              "   187201),\n",
              "  ('/content/drive/MyDrive/ACDS/Selected_Storms_curated/gme/gme_088.jpg',\n",
              "   189002),\n",
              "  ('/content/drive/MyDrive/ACDS/Selected_Storms_curated/gme/gme_089.jpg',\n",
              "   190801),\n",
              "  ('/content/drive/MyDrive/ACDS/Selected_Storms_curated/gme/gme_090.jpg',\n",
              "   194402),\n",
              "  ('/content/drive/MyDrive/ACDS/Selected_Storms_curated/gme/gme_091.jpg',\n",
              "   196201),\n",
              "  ('/content/drive/MyDrive/ACDS/Selected_Storms_curated/gme/gme_092.jpg',\n",
              "   198002),\n",
              "  ('/content/drive/MyDrive/ACDS/Selected_Storms_curated/gme/gme_093.jpg',\n",
              "   199801),\n",
              "  ('/content/drive/MyDrive/ACDS/Selected_Storms_curated/gme/gme_094.jpg',\n",
              "   201601),\n",
              "  ('/content/drive/MyDrive/ACDS/Selected_Storms_curated/gme/gme_095.jpg',\n",
              "   205201),\n",
              "  ('/content/drive/MyDrive/ACDS/Selected_Storms_curated/gme/gme_096.jpg',\n",
              "   207003),\n",
              "  ('/content/drive/MyDrive/ACDS/Selected_Storms_curated/gme/gme_097.jpg',\n",
              "   208801),\n",
              "  ('/content/drive/MyDrive/ACDS/Selected_Storms_curated/gme/gme_098.jpg',\n",
              "   210601),\n",
              "  ('/content/drive/MyDrive/ACDS/Selected_Storms_curated/gme/gme_099.jpg',\n",
              "   212402),\n",
              "  ('/content/drive/MyDrive/ACDS/Selected_Storms_curated/gme/gme_100.jpg',\n",
              "   216001),\n",
              "  ('/content/drive/MyDrive/ACDS/Selected_Storms_curated/gme/gme_101.jpg',\n",
              "   217802),\n",
              "  ('/content/drive/MyDrive/ACDS/Selected_Storms_curated/gme/gme_102.jpg',\n",
              "   219601),\n",
              "  ('/content/drive/MyDrive/ACDS/Selected_Storms_curated/gme/gme_103.jpg',\n",
              "   221401),\n",
              "  ('/content/drive/MyDrive/ACDS/Selected_Storms_curated/gme/gme_104.jpg',\n",
              "   223201),\n",
              "  ('/content/drive/MyDrive/ACDS/Selected_Storms_curated/gme/gme_105.jpg',\n",
              "   226800),\n",
              "  ('/content/drive/MyDrive/ACDS/Selected_Storms_curated/gme/gme_106.jpg',\n",
              "   228600),\n",
              "  ('/content/drive/MyDrive/ACDS/Selected_Storms_curated/gme/gme_107.jpg',\n",
              "   230400),\n",
              "  ('/content/drive/MyDrive/ACDS/Selected_Storms_curated/gme/gme_108.jpg',\n",
              "   232202),\n",
              "  ('/content/drive/MyDrive/ACDS/Selected_Storms_curated/gme/gme_109.jpg',\n",
              "   234001),\n",
              "  ('/content/drive/MyDrive/ACDS/Selected_Storms_curated/gme/gme_110.jpg',\n",
              "   237599),\n",
              "  ('/content/drive/MyDrive/ACDS/Selected_Storms_curated/gme/gme_111.jpg',\n",
              "   239400),\n",
              "  ('/content/drive/MyDrive/ACDS/Selected_Storms_curated/gme/gme_112.jpg',\n",
              "   241200),\n",
              "  ('/content/drive/MyDrive/ACDS/Selected_Storms_curated/gme/gme_113.jpg',\n",
              "   242999),\n",
              "  ('/content/drive/MyDrive/ACDS/Selected_Storms_curated/gme/gme_114.jpg',\n",
              "   244801),\n",
              "  ('/content/drive/MyDrive/ACDS/Selected_Storms_curated/gme/gme_115.jpg',\n",
              "   248400),\n",
              "  ('/content/drive/MyDrive/ACDS/Selected_Storms_curated/gme/gme_116.jpg',\n",
              "   250200),\n",
              "  ('/content/drive/MyDrive/ACDS/Selected_Storms_curated/gme/gme_117.jpg',\n",
              "   251999),\n",
              "  ('/content/drive/MyDrive/ACDS/Selected_Storms_curated/gme/gme_118.jpg',\n",
              "   253800),\n",
              "  ('/content/drive/MyDrive/ACDS/Selected_Storms_curated/gme/gme_119.jpg',\n",
              "   255600),\n",
              "  ('/content/drive/MyDrive/ACDS/Selected_Storms_curated/gme/gme_120.jpg',\n",
              "   259200),\n",
              "  ('/content/drive/MyDrive/ACDS/Selected_Storms_curated/gme/gme_121.jpg',\n",
              "   261002),\n",
              "  ('/content/drive/MyDrive/ACDS/Selected_Storms_curated/gme/gme_122.jpg',\n",
              "   262800),\n",
              "  ('/content/drive/MyDrive/ACDS/Selected_Storms_curated/gme/gme_123.jpg',\n",
              "   264600),\n",
              "  ('/content/drive/MyDrive/ACDS/Selected_Storms_curated/gme/gme_124.jpg',\n",
              "   266399),\n",
              "  ('/content/drive/MyDrive/ACDS/Selected_Storms_curated/gme/gme_125.jpg',\n",
              "   270002),\n",
              "  ('/content/drive/MyDrive/ACDS/Selected_Storms_curated/gme/gme_126.jpg',\n",
              "   271801),\n",
              "  ('/content/drive/MyDrive/ACDS/Selected_Storms_curated/gme/gme_127.jpg',\n",
              "   273601),\n",
              "  ('/content/drive/MyDrive/ACDS/Selected_Storms_curated/gme/gme_128.jpg',\n",
              "   275402),\n",
              "  ('/content/drive/MyDrive/ACDS/Selected_Storms_curated/gme/gme_129.jpg',\n",
              "   277201),\n",
              "  ('/content/drive/MyDrive/ACDS/Selected_Storms_curated/gme/gme_130.jpg',\n",
              "   280801),\n",
              "  ('/content/drive/MyDrive/ACDS/Selected_Storms_curated/gme/gme_131.jpg',\n",
              "   282601),\n",
              "  ('/content/drive/MyDrive/ACDS/Selected_Storms_curated/gme/gme_132.jpg',\n",
              "   284402),\n",
              "  ('/content/drive/MyDrive/ACDS/Selected_Storms_curated/gme/gme_133.jpg',\n",
              "   286201),\n",
              "  ('/content/drive/MyDrive/ACDS/Selected_Storms_curated/gme/gme_134.jpg',\n",
              "   288001),\n",
              "  ('/content/drive/MyDrive/ACDS/Selected_Storms_curated/gme/gme_135.jpg',\n",
              "   291601),\n",
              "  ('/content/drive/MyDrive/ACDS/Selected_Storms_curated/gme/gme_136.jpg',\n",
              "   293402),\n",
              "  ('/content/drive/MyDrive/ACDS/Selected_Storms_curated/gme/gme_137.jpg',\n",
              "   295201),\n",
              "  ('/content/drive/MyDrive/ACDS/Selected_Storms_curated/gme/gme_138.jpg',\n",
              "   297001),\n",
              "  ('/content/drive/MyDrive/ACDS/Selected_Storms_curated/gme/gme_139.jpg',\n",
              "   298802),\n",
              "  ('/content/drive/MyDrive/ACDS/Selected_Storms_curated/gme/gme_140.jpg',\n",
              "   302401),\n",
              "  ('/content/drive/MyDrive/ACDS/Selected_Storms_curated/gme/gme_141.jpg',\n",
              "   304201),\n",
              "  ('/content/drive/MyDrive/ACDS/Selected_Storms_curated/gme/gme_142.jpg',\n",
              "   306001),\n",
              "  ('/content/drive/MyDrive/ACDS/Selected_Storms_curated/gme/gme_143.jpg',\n",
              "   307802),\n",
              "  ('/content/drive/MyDrive/ACDS/Selected_Storms_curated/gme/gme_144.jpg',\n",
              "   309601),\n",
              "  ('/content/drive/MyDrive/ACDS/Selected_Storms_curated/gme/gme_145.jpg',\n",
              "   313200),\n",
              "  ('/content/drive/MyDrive/ACDS/Selected_Storms_curated/gme/gme_146.jpg',\n",
              "   315001),\n",
              "  ('/content/drive/MyDrive/ACDS/Selected_Storms_curated/gme/gme_147.jpg',\n",
              "   316800),\n",
              "  ('/content/drive/MyDrive/ACDS/Selected_Storms_curated/gme/gme_148.jpg',\n",
              "   318600),\n",
              "  ('/content/drive/MyDrive/ACDS/Selected_Storms_curated/gme/gme_149.jpg',\n",
              "   320401),\n",
              "  ('/content/drive/MyDrive/ACDS/Selected_Storms_curated/gme/gme_150.jpg',\n",
              "   324001),\n",
              "  ('/content/drive/MyDrive/ACDS/Selected_Storms_curated/gme/gme_151.jpg',\n",
              "   325800),\n",
              "  ('/content/drive/MyDrive/ACDS/Selected_Storms_curated/gme/gme_152.jpg',\n",
              "   327600),\n",
              "  ('/content/drive/MyDrive/ACDS/Selected_Storms_curated/gme/gme_153.jpg',\n",
              "   329400),\n",
              "  ('/content/drive/MyDrive/ACDS/Selected_Storms_curated/gme/gme_154.jpg',\n",
              "   331202),\n",
              "  ('/content/drive/MyDrive/ACDS/Selected_Storms_curated/gme/gme_155.jpg',\n",
              "   334800),\n",
              "  ('/content/drive/MyDrive/ACDS/Selected_Storms_curated/gme/gme_156.jpg',\n",
              "   336600),\n",
              "  ('/content/drive/MyDrive/ACDS/Selected_Storms_curated/gme/gme_157.jpg',\n",
              "   338400),\n",
              "  ('/content/drive/MyDrive/ACDS/Selected_Storms_curated/gme/gme_158.jpg',\n",
              "   340200),\n",
              "  ('/content/drive/MyDrive/ACDS/Selected_Storms_curated/gme/gme_159.jpg',\n",
              "   342000),\n",
              "  ('/content/drive/MyDrive/ACDS/Selected_Storms_curated/gme/gme_160.jpg',\n",
              "   345600),\n",
              "  ('/content/drive/MyDrive/ACDS/Selected_Storms_curated/gme/gme_161.jpg',\n",
              "   347399),\n",
              "  ('/content/drive/MyDrive/ACDS/Selected_Storms_curated/gme/gme_162.jpg',\n",
              "   349200),\n",
              "  ('/content/drive/MyDrive/ACDS/Selected_Storms_curated/gme/gme_163.jpg',\n",
              "   351001),\n",
              "  ('/content/drive/MyDrive/ACDS/Selected_Storms_curated/gme/gme_164.jpg',\n",
              "   352800),\n",
              "  ('/content/drive/MyDrive/ACDS/Selected_Storms_curated/gme/gme_165.jpg',\n",
              "   356402),\n",
              "  ('/content/drive/MyDrive/ACDS/Selected_Storms_curated/gme/gme_166.jpg',\n",
              "   358201),\n",
              "  ('/content/drive/MyDrive/ACDS/Selected_Storms_curated/gme/gme_167.jpg',\n",
              "   360002),\n",
              "  ('/content/drive/MyDrive/ACDS/Selected_Storms_curated/gme/gme_168.jpg',\n",
              "   361801),\n",
              "  ('/content/drive/MyDrive/ACDS/Selected_Storms_curated/gme/gme_169.jpg',\n",
              "   363601),\n",
              "  ('/content/drive/MyDrive/ACDS/Selected_Storms_curated/gme/gme_170.jpg',\n",
              "   367201),\n",
              "  ('/content/drive/MyDrive/ACDS/Selected_Storms_curated/gme/gme_171.jpg',\n",
              "   369002),\n",
              "  ('/content/drive/MyDrive/ACDS/Selected_Storms_curated/gme/gme_172.jpg',\n",
              "   370801),\n",
              "  ('/content/drive/MyDrive/ACDS/Selected_Storms_curated/gme/gme_173.jpg',\n",
              "   372601),\n",
              "  ('/content/drive/MyDrive/ACDS/Selected_Storms_curated/gme/gme_174.jpg',\n",
              "   374402),\n",
              "  ('/content/drive/MyDrive/ACDS/Selected_Storms_curated/gme/gme_175.jpg',\n",
              "   378001),\n",
              "  ('/content/drive/MyDrive/ACDS/Selected_Storms_curated/gme/gme_176.jpg',\n",
              "   379802),\n",
              "  ('/content/drive/MyDrive/ACDS/Selected_Storms_curated/gme/gme_177.jpg',\n",
              "   381601),\n",
              "  ('/content/drive/MyDrive/ACDS/Selected_Storms_curated/gme/gme_178.jpg',\n",
              "   383402),\n",
              "  ('/content/drive/MyDrive/ACDS/Selected_Storms_curated/gme/gme_179.jpg',\n",
              "   385201),\n",
              "  ('/content/drive/MyDrive/ACDS/Selected_Storms_curated/gme/gme_180.jpg',\n",
              "   388802),\n",
              "  ('/content/drive/MyDrive/ACDS/Selected_Storms_curated/gme/gme_181.jpg',\n",
              "   390601),\n",
              "  ('/content/drive/MyDrive/ACDS/Selected_Storms_curated/gme/gme_182.jpg',\n",
              "   392401),\n",
              "  ('/content/drive/MyDrive/ACDS/Selected_Storms_curated/gme/gme_183.jpg',\n",
              "   394201),\n",
              "  ('/content/drive/MyDrive/ACDS/Selected_Storms_curated/gme/gme_184.jpg',\n",
              "   396001),\n",
              "  ('/content/drive/MyDrive/ACDS/Selected_Storms_curated/gme/gme_185.jpg',\n",
              "   399600),\n",
              "  ('/content/drive/MyDrive/ACDS/Selected_Storms_curated/gme/gme_186.jpg',\n",
              "   401400),\n",
              "  ('/content/drive/MyDrive/ACDS/Selected_Storms_curated/gme/gme_187.jpg',\n",
              "   403202),\n",
              "  ('/content/drive/MyDrive/ACDS/Selected_Storms_curated/gme/gme_188.jpg',\n",
              "   405000),\n",
              "  ('/content/drive/MyDrive/ACDS/Selected_Storms_curated/gme/gme_189.jpg',\n",
              "   406800),\n",
              "  ('/content/drive/MyDrive/ACDS/Selected_Storms_curated/gme/gme_190.jpg',\n",
              "   410401),\n",
              "  ('/content/drive/MyDrive/ACDS/Selected_Storms_curated/gme/gme_191.jpg',\n",
              "   412202),\n",
              "  ('/content/drive/MyDrive/ACDS/Selected_Storms_curated/gme/gme_192.jpg',\n",
              "   414000),\n",
              "  ('/content/drive/MyDrive/ACDS/Selected_Storms_curated/gme/gme_193.jpg',\n",
              "   415800),\n",
              "  ('/content/drive/MyDrive/ACDS/Selected_Storms_curated/gme/gme_194.jpg',\n",
              "   417600),\n",
              "  ('/content/drive/MyDrive/ACDS/Selected_Storms_curated/gme/gme_195.jpg',\n",
              "   421200),\n",
              "  ('/content/drive/MyDrive/ACDS/Selected_Storms_curated/gme/gme_196.jpg',\n",
              "   423000),\n",
              "  ('/content/drive/MyDrive/ACDS/Selected_Storms_curated/gme/gme_197.jpg',\n",
              "   424801),\n",
              "  ('/content/drive/MyDrive/ACDS/Selected_Storms_curated/gme/gme_198.jpg',\n",
              "   426600),\n",
              "  ('/content/drive/MyDrive/ACDS/Selected_Storms_curated/gme/gme_199.jpg',\n",
              "   428399),\n",
              "  ('/content/drive/MyDrive/ACDS/Selected_Storms_curated/gme/gme_200.jpg',\n",
              "   432000),\n",
              "  ('/content/drive/MyDrive/ACDS/Selected_Storms_curated/gme/gme_201.jpg',\n",
              "   433800),\n",
              "  ('/content/drive/MyDrive/ACDS/Selected_Storms_curated/gme/gme_202.jpg',\n",
              "   435600),\n",
              "  ('/content/drive/MyDrive/ACDS/Selected_Storms_curated/gme/gme_203.jpg',\n",
              "   439202),\n",
              "  ('/content/drive/MyDrive/ACDS/Selected_Storms_curated/gme/gme_204.jpg',\n",
              "   442801),\n",
              "  ('/content/drive/MyDrive/ACDS/Selected_Storms_curated/gme/gme_205.jpg',\n",
              "   444601),\n",
              "  ('/content/drive/MyDrive/ACDS/Selected_Storms_curated/gme/gme_206.jpg',\n",
              "   446402),\n",
              "  ('/content/drive/MyDrive/ACDS/Selected_Storms_curated/gme/gme_207.jpg',\n",
              "   448201),\n",
              "  ('/content/drive/MyDrive/ACDS/Selected_Storms_curated/gme/gme_208.jpg',\n",
              "   450001)]]"
            ]
          },
          "metadata": {},
          "execution_count": 8
        }
      ]
    },
    {
      "cell_type": "markdown",
      "source": [
        "set bs = 8"
      ],
      "metadata": {
        "id": "sRWa4e5bw4fp"
      }
    },
    {
      "cell_type": "code",
      "source": [
        "print(f\"Test wind - {subfolder[1]}\")\n",
        "train_dataset = ImageSequenceDataset(train_samples, transform=transform)\n",
        "test_dataset = ImageSequenceDataset(test_samples, transform=transform)\n",
        "\n",
        "train_dataloader = DataLoader(train_dataset,\n",
        "                        batch_size=8,\n",
        "                        shuffle=True)\n",
        "\n",
        "test_dataloader = DataLoader(test_dataset,\n",
        "                        batch_size=8,\n",
        "                        shuffle=False)"
      ],
      "metadata": {
        "colab": {
          "base_uri": "https://localhost:8080/"
        },
        "id": "GONlCTNEwmUD",
        "outputId": "1fc83c1e-7fb8-4385-c0b8-d4781ed70f60"
      },
      "execution_count": 9,
      "outputs": [
        {
          "output_type": "stream",
          "name": "stdout",
          "text": [
            "Test wind - gme\n"
          ]
        },
        {
          "output_type": "stream",
          "name": "stderr",
          "text": [
            "Processing Data: 100%|██████████| 29/29 [00:47<00:00,  1.65s/it]\n",
            "Processing Data: 100%|██████████| 1/1 [00:01<00:00,  1.05s/it]\n"
          ]
        }
      ]
    },
    {
      "cell_type": "code",
      "source": [
        "\n",
        "last_batch_data = None\n",
        "\n",
        "# Itering test_dataLoader\n",
        "for batch_data in test_dataloader:\n",
        "    last_batch_data = batch_data  # Update the data for the last batch\n",
        "\n",
        "if last_batch_data is not None:\n",
        "    sequence_images, prediction_images, times = last_batch_data\n",
        "    print(f\"Sequence images shape: {sequence_images.shape}\")\n",
        "    print(f\"Prediction images shape: {prediction_images.shape}\")\n",
        "    print(f\"Times shape: {times.shape}\")\n",
        "else:\n",
        "    print(\"No data in the DataLoader\")\n"
      ],
      "metadata": {
        "colab": {
          "base_uri": "https://localhost:8080/"
        },
        "id": "FalMrXPtpMb_",
        "outputId": "f319a3de-fa5b-42a9-9056-a20792e756cd"
      },
      "execution_count": 10,
      "outputs": [
        {
          "output_type": "stream",
          "name": "stdout",
          "text": [
            "Sequence images shape: torch.Size([1, 6, 1, 366, 366])\n",
            "Prediction images shape: torch.Size([1, 3, 1, 366, 366])\n",
            "Times shape: torch.Size([1, 9])\n"
          ]
        }
      ]
    },
    {
      "cell_type": "markdown",
      "source": [
        "- `sequence_images`: A tensor of sequence images with the shape `[batch_size, sequence_length, channels, height, width]`.\n",
        "- `prediction_images`: A tensor of prediction images with the shape `[batch_size, pre_len, channels, height, width]`, where `pre_len` is the number of images to be predicted.\n",
        "- `times`: Timestamp information with the shape `[batch_size, sequence_length + pre_len]`."
      ],
      "metadata": {
        "id": "mkROIqWAra5N"
      }
    },
    {
      "cell_type": "markdown",
      "source": [
        "# Model\n",
        "Let's move on to the definition of the model: this is based on a very standard ConvLSTM schema change, with some differences from our group's second implementation, CNN_LSTM, which is a more integrated approach that deals with both spatial and temporal information at each time step. CNN_LSTM is a two-stage approach, processing spatial information first, and then processing time information."
      ],
      "metadata": {
        "id": "g8lCGJSe2dOs"
      }
    },
    {
      "cell_type": "code",
      "execution_count": 11,
      "metadata": {
        "id": "GV11QzhEj8Zn"
      },
      "outputs": [],
      "source": [
        "import torch.nn as nn\n",
        "import torch\n",
        "\n",
        "\n",
        "class ConvLSTMCell(nn.Module):\n",
        "\n",
        "    def __init__(self, input_dim, hidden_dim, kernel_size, bias):\n",
        "        \"\"\"\n",
        "        Initialize ConvLSTM cell.\n",
        "\n",
        "        Parameters\n",
        "        ----------\n",
        "        input_dim: int\n",
        "            Number of channels of input tensor.\n",
        "        hidden_dim: int\n",
        "            Number of channels of hidden state.\n",
        "        kernel_size: (int, int)\n",
        "            Size of the convolutional kernel.\n",
        "        bias: bool\n",
        "            Whether or not to add the bias.\n",
        "        \"\"\"\n",
        "\n",
        "        super(ConvLSTMCell, self).__init__()\n",
        "\n",
        "        self.input_dim = input_dim\n",
        "        self.hidden_dim = hidden_dim\n",
        "\n",
        "        self.kernel_size = kernel_size\n",
        "        self.padding = kernel_size // 2, kernel_size // 2\n",
        "        self.bias = bias\n",
        "\n",
        "        self.conv = nn.Conv2d(in_channels=self.input_dim + self.hidden_dim,\n",
        "                              out_channels=4 * self.hidden_dim,\n",
        "                              kernel_size=self.kernel_size,\n",
        "                              padding=self.padding,\n",
        "                              bias=self.bias)\n",
        "\n",
        "    def forward(self, input_tensor, cur_state):\n",
        "        h_cur, c_cur = cur_state\n",
        "\n",
        "        combined = torch.cat([input_tensor, h_cur], dim=1)  # concatenate along channel axis\n",
        "\n",
        "        combined_conv = self.conv(combined)\n",
        "        cc_i, cc_f, cc_o, cc_g = torch.split(combined_conv, self.hidden_dim, dim=1)\n",
        "        i = torch.sigmoid(cc_i)\n",
        "        f = torch.sigmoid(cc_f)\n",
        "        o = torch.sigmoid(cc_o)\n",
        "        g = torch.tanh(cc_g)\n",
        "\n",
        "        c_next = f * c_cur + i * g\n",
        "        h_next = o * torch.tanh(c_next)\n",
        "\n",
        "        return h_next, c_next\n",
        "\n",
        "    def init_hidden(self, batch_size, image_size):\n",
        "        height, width = image_size\n",
        "        return (torch.zeros(batch_size, self.hidden_dim, height, width, device=self.conv.weight.device),\n",
        "                torch.zeros(batch_size, self.hidden_dim, height, width, device=self.conv.weight.device))\n",
        "\n",
        "\n",
        "class ConvLSTM(nn.Module):\n",
        "\n",
        "    \"\"\"\n",
        "\n",
        "    Parameters:\n",
        "        input_dim: Number of channels in input\n",
        "        hidden_dim: Number of hidden channels\n",
        "        kernel_size: Size of kernel in convolutions\n",
        "        num_layers: Number of LSTM layers stacked on each other\n",
        "        batch_first: Whether or not dimension 0 is the batch or not\n",
        "        bias: Bias or no bias in Convolution\n",
        "        return_all_layers: Return the list of computations for all layers\n",
        "        Note: Will do same padding.\n",
        "\n",
        "    Input:\n",
        "        A tensor of size B, T, C, H, W or T, B, C, H, W\n",
        "    Output:\n",
        "        A tuple of two lists of length num_layers (or length 1 if return_all_layers is False).\n",
        "            0 - layer_output_list is the list of lists of length T of each output\n",
        "            1 - last_state_list is the list of last states\n",
        "                    each element of the list is a tuple (h, c) for hidden state and memory\n",
        "    Example:\n",
        "        >> x = torch.rand((32, 10, 64, 128, 128))\n",
        "        >> convlstm = ConvLSTM(64, 16, 3, 1, True, True, False)\n",
        "        >> _, last_states = convlstm(x)\n",
        "        >> h = last_states[0][0]  # 0 for layer index, 0 for h index\n",
        "    \"\"\"\n",
        "\n",
        "    def __init__(self, input_dim=1, hidden_dim=[16, 8, 1], kernel_size=[3,3,3], num_layers=3,\n",
        "                 batch_first=True, bias=True, return_all_layers=True):\n",
        "        super(ConvLSTM, self).__init__()\n",
        "\n",
        "        # Make sure that both `kernel_size` and `hidden_dim` are lists having len == num_layers\n",
        "        if not len(kernel_size) == len(hidden_dim) == num_layers:\n",
        "            raise ValueError('Inconsistent list length.')\n",
        "\n",
        "        self.input_dim = input_dim\n",
        "        self.hidden_dim = hidden_dim\n",
        "        self.kernel_size = kernel_size\n",
        "        self.num_layers = num_layers\n",
        "        self.batch_first = batch_first\n",
        "        self.bias = bias\n",
        "        self.return_all_layers = return_all_layers\n",
        "\n",
        "        # Add and initialize parameters\n",
        "        self.time_embedding = nn.Parameter(torch.zeros(50, 1, 366, 366), requires_grad=True)\n",
        "\n",
        "        cell_list = []\n",
        "        for i in range(0, self.num_layers):\n",
        "            cur_input_dim = self.input_dim if i == 0 else self.hidden_dim[i - 1]\n",
        "\n",
        "            cell_list.append(ConvLSTMCell(input_dim=cur_input_dim,\n",
        "                                          hidden_dim=self.hidden_dim[i],\n",
        "                                          kernel_size=self.kernel_size[i],\n",
        "                                          bias=self.bias))\n",
        "\n",
        "        self.cell_list = nn.ModuleList(cell_list)\n",
        "\n",
        "    def forward(self, input_tensor, times, hidden_state=None):\n",
        "        \"\"\"\n",
        "\n",
        "        Parameters\n",
        "        ----------\n",
        "        input_tensor: todo\n",
        "            5-D Tensor either of shape (t, b, c, h, w) or (b, t, c, h, w)\n",
        "        hidden_state: todo\n",
        "            None. todo implement stateful\n",
        "\n",
        "        Returns\n",
        "        -------\n",
        "        last_state_list, layer_output\n",
        "        \"\"\"\n",
        "        if not self.batch_first:\n",
        "            # (t, b, c, h, w) -> (b, t, c, h, w)\n",
        "            input_tensor = input_tensor.permute(1, 0, 2, 3, 4)\n",
        "\n",
        "        b, _, _, h, w = input_tensor.size()\n",
        "\n",
        "        # Implement stateful ConvLSTM\n",
        "        if hidden_state is not None:\n",
        "            raise NotImplementedError()\n",
        "        else:\n",
        "            # Since the init is done in forward. Can send image size here\n",
        "            hidden_state = self._init_hidden(batch_size=b,\n",
        "                                             image_size=(h, w))\n",
        "\n",
        "        layer_output_list = []\n",
        "        last_state_list = []\n",
        "\n",
        "        seq_len = input_tensor.size(1)\n",
        "        cur_layer_input = input_tensor + self.time_embedding[times[:,:input_tensor.size(1)]]\n",
        "\n",
        "        for layer_idx in range(self.num_layers):\n",
        "\n",
        "            h, c = hidden_state[layer_idx]\n",
        "            output_inner = []\n",
        "            for t in range(seq_len):\n",
        "                h, c = self.cell_list[layer_idx](input_tensor=cur_layer_input[:, t, :, :, :],\n",
        "                                                 cur_state=[h, c])\n",
        "                output_inner.append(h)\n",
        "\n",
        "            layer_output = torch.stack(output_inner, dim=1)\n",
        "            cur_layer_input = layer_output\n",
        "\n",
        "            layer_output_list.append(layer_output)\n",
        "            last_state_list.append([h, c])\n",
        "\n",
        "        if not self.return_all_layers:\n",
        "            layer_output_list = layer_output_list[-1:]\n",
        "            last_state_list = last_state_list[-1:]\n",
        "\n",
        "        return layer_output_list, last_state_list\n",
        "\n",
        "    def _init_hidden(self, batch_size, image_size):\n",
        "        init_states = []\n",
        "        for i in range(self.num_layers):\n",
        "            init_states.append(self.cell_list[i].init_hidden(batch_size, image_size))\n",
        "        return init_states"
      ]
    },
    {
      "cell_type": "code",
      "execution_count": 12,
      "metadata": {
        "id": "t5PSWki7j8Zo"
      },
      "outputs": [],
      "source": [
        "device = torch.device(\"cuda\" if torch.cuda.is_available() else \"cpu\")\n",
        "num_epochs = 10\n",
        "model = ConvLSTM()\n",
        "model.to(device)\n",
        "\n",
        "criterion = nn.MSELoss()\n",
        "optimizer = torch.optim.Adam(model.parameters(), lr=5e-4)"
      ]
    },
    {
      "cell_type": "code",
      "source": [
        "model"
      ],
      "metadata": {
        "colab": {
          "base_uri": "https://localhost:8080/"
        },
        "id": "Ce8ZrTCw4-8Q",
        "outputId": "811ecb37-1c32-43f9-8f57-97bca08ddc5b"
      },
      "execution_count": 16,
      "outputs": [
        {
          "output_type": "execute_result",
          "data": {
            "text/plain": [
              "ConvLSTM(\n",
              "  (cell_list): ModuleList(\n",
              "    (0): ConvLSTMCell(\n",
              "      (conv): Conv2d(17, 64, kernel_size=(3, 3), stride=(1, 1), padding=(1, 1))\n",
              "    )\n",
              "    (1): ConvLSTMCell(\n",
              "      (conv): Conv2d(24, 32, kernel_size=(3, 3), stride=(1, 1), padding=(1, 1))\n",
              "    )\n",
              "    (2): ConvLSTMCell(\n",
              "      (conv): Conv2d(9, 4, kernel_size=(3, 3), stride=(1, 1), padding=(1, 1))\n",
              "    )\n",
              "  )\n",
              ")"
            ]
          },
          "metadata": {},
          "execution_count": 16
        }
      ]
    },
    {
      "cell_type": "markdown",
      "source": [
        "10 epochs with batch_size = 8:"
      ],
      "metadata": {
        "id": "iof5LMaF5py-"
      }
    },
    {
      "cell_type": "code",
      "execution_count": 13,
      "metadata": {
        "colab": {
          "base_uri": "https://localhost:8080/"
        },
        "id": "1i-IEm8Jj8Zo",
        "outputId": "c4c38c65-2cb1-4bb0-84b7-30510eb40952"
      },
      "outputs": [
        {
          "output_type": "stream",
          "name": "stderr",
          "text": [
            "Epoch 1/10: 100%|██████████| 1136/1136 [14:08<00:00,  1.34it/s, loss=0.0186]\n"
          ]
        },
        {
          "output_type": "stream",
          "name": "stdout",
          "text": [
            "Average Loss for Epoch 1: 0.0186\n"
          ]
        },
        {
          "output_type": "stream",
          "name": "stderr",
          "text": [
            "Epoch 2/10: 100%|██████████| 1136/1136 [12:33<00:00,  1.51it/s, loss=0.0138]\n"
          ]
        },
        {
          "output_type": "stream",
          "name": "stdout",
          "text": [
            "Average Loss for Epoch 2: 0.0138\n"
          ]
        },
        {
          "output_type": "stream",
          "name": "stderr",
          "text": [
            "Epoch 3/10: 100%|██████████| 1136/1136 [12:33<00:00,  1.51it/s, loss=0.0137]\n"
          ]
        },
        {
          "output_type": "stream",
          "name": "stdout",
          "text": [
            "Average Loss for Epoch 3: 0.0137\n"
          ]
        },
        {
          "output_type": "stream",
          "name": "stderr",
          "text": [
            "Epoch 4/10: 100%|██████████| 1136/1136 [12:33<00:00,  1.51it/s, loss=0.0135]\n"
          ]
        },
        {
          "output_type": "stream",
          "name": "stdout",
          "text": [
            "Average Loss for Epoch 4: 0.0135\n"
          ]
        },
        {
          "output_type": "stream",
          "name": "stderr",
          "text": [
            "Epoch 5/10: 100%|██████████| 1136/1136 [12:33<00:00,  1.51it/s, loss=0.0132]\n"
          ]
        },
        {
          "output_type": "stream",
          "name": "stdout",
          "text": [
            "Average Loss for Epoch 5: 0.0132\n"
          ]
        },
        {
          "output_type": "stream",
          "name": "stderr",
          "text": [
            "Epoch 6/10: 100%|██████████| 1136/1136 [12:33<00:00,  1.51it/s, loss=0.013]\n"
          ]
        },
        {
          "output_type": "stream",
          "name": "stdout",
          "text": [
            "Average Loss for Epoch 6: 0.0130\n"
          ]
        },
        {
          "output_type": "stream",
          "name": "stderr",
          "text": [
            "Epoch 7/10: 100%|██████████| 1136/1136 [12:33<00:00,  1.51it/s, loss=0.0129]\n"
          ]
        },
        {
          "output_type": "stream",
          "name": "stdout",
          "text": [
            "Average Loss for Epoch 7: 0.0129\n"
          ]
        },
        {
          "output_type": "stream",
          "name": "stderr",
          "text": [
            "Epoch 8/10: 100%|██████████| 1136/1136 [12:33<00:00,  1.51it/s, loss=0.0129]\n"
          ]
        },
        {
          "output_type": "stream",
          "name": "stdout",
          "text": [
            "Average Loss for Epoch 8: 0.0129\n"
          ]
        },
        {
          "output_type": "stream",
          "name": "stderr",
          "text": [
            "Epoch 9/10: 100%|██████████| 1136/1136 [12:33<00:00,  1.51it/s, loss=0.0128]\n"
          ]
        },
        {
          "output_type": "stream",
          "name": "stdout",
          "text": [
            "Average Loss for Epoch 9: 0.0128\n"
          ]
        },
        {
          "output_type": "stream",
          "name": "stderr",
          "text": [
            "Epoch 10/10: 100%|██████████| 1136/1136 [12:33<00:00,  1.51it/s, loss=0.0128]\n"
          ]
        },
        {
          "output_type": "stream",
          "name": "stdout",
          "text": [
            "Average Loss for Epoch 10: 0.0128\n"
          ]
        }
      ],
      "source": [
        "best_epoch_loss = float('inf')\n",
        "all_loss = []\n",
        "for epoch in range(num_epochs):\n",
        "    epoch_loss = 0.0\n",
        "    with tqdm(enumerate(train_dataloader), total=len(train_dataloader), desc=f\"Epoch {epoch + 1}/{num_epochs}\") as tepoch:\n",
        "        for i, (input_sequences, target_sequences, times) in tepoch:\n",
        "\n",
        "            input_sequences = input_sequences.to(device)\n",
        "            target_sequences = target_sequences.to(device)\n",
        "            times = times.to(device)\n",
        "\n",
        "            optimizer.zero_grad()\n",
        "\n",
        "            # Forward propagation\n",
        "            layer_output_list, _ = model(input_sequences, times)\n",
        "            output_sequences = layer_output_list[-1][:,-target_sequences.size(1):]  # Take the output of the last layer\n",
        "\n",
        "            # calculate loss\n",
        "            loss = criterion(output_sequences, target_sequences)\n",
        "            epoch_loss += loss.item()\n",
        "            all_loss.append(loss.item())\n",
        "            # Backpropagation and Optimization\n",
        "            loss.backward()\n",
        "            optimizer.step()\n",
        "\n",
        "            # Update progress bar\n",
        "            tepoch.set_postfix(loss=epoch_loss/(i+1))\n",
        "\n",
        "    average_epoch_loss = epoch_loss / len(train_dataloader)\n",
        "    print(f\"Average Loss for Epoch {epoch + 1}: {average_epoch_loss:.4f}\")\n",
        "\n",
        "    # Check if it is the best model\n",
        "    if average_epoch_loss < best_epoch_loss:\n",
        "        best_epoch_loss = average_epoch_loss\n",
        "        # save_model\n",
        "        torch.save(model.state_dict(), 'best_model.pth')"
      ]
    },
    {
      "cell_type": "code",
      "execution_count": 14,
      "metadata": {
        "colab": {
          "base_uri": "https://localhost:8080/",
          "height": 472
        },
        "id": "tdJIXVj1j8Zo",
        "outputId": "487634b7-b379-4ba4-96ba-2ea1c742b468"
      },
      "outputs": [
        {
          "output_type": "display_data",
          "data": {
            "text/plain": [
              "<Figure size 640x480 with 1 Axes>"
            ],
            "image/png": "[encoded data removed]"
          },
          "metadata": {}
        }
      ],
      "source": [
        "import matplotlib.pyplot as plt\n",
        "\n",
        "plt.plot(all_loss)\n",
        "plt.xlabel(\"Iter\")\n",
        "plt.ylabel(\"Loss\")\n",
        "plt.title(\"Loss Curve\")\n",
        "plt.grid(\"--\")\n",
        "plt.savefig(\"loss_curve.png\", dpi=300)"
      ]
    },
    {
      "cell_type": "code",
      "execution_count": 15,
      "metadata": {
        "colab": {
          "base_uri": "https://localhost:8080/"
        },
        "id": "oik1PYrkj8Zo",
        "outputId": "c756b786-9ff0-4eb1-d361-2feb5333e84c"
      },
      "outputs": [
        {
          "output_type": "execute_result",
          "data": {
            "text/plain": [
              "<All keys matched successfully>"
            ]
          },
          "metadata": {},
          "execution_count": 15
        }
      ],
      "source": [
        "model.load_state_dict(torch.load('best_model.pth'))"
      ]
    },
    {
      "cell_type": "markdown",
      "source": [
        "When iterating through the test data loader (`test_dataloader`), the model generates predictions for each batch. If we set `'gme'` as the test set, the comparison between the model's predictions and the actual situation of each image depends on the following aspects:\n",
        "\n",
        "- **Batch Size**: `batch_size` determines the number of images processed by the model at each pass. If `batch_size` is set to 8, then 8 images will be processed simultaneously by the model in each iteration.\n",
        "\n",
        "- **Batch Processing**: For each batch, the model makes predictions for all the images within it, generating an output sequence. Subsequently, the code will draw input, target (real), predicted, and difference images for each image in that batch.\n",
        "\n",
        "- **Per-Image Processing**: Within each batch, the code processes each image individually through a loop (`for k in range(len(input_sequences)):`), generating and saving corresponding images for each."
      ],
      "metadata": {
        "id": "q6hXPF1BIfqM"
      }
    },
    {
      "cell_type": "code",
      "execution_count": null,
      "metadata": {
        "colab": {
          "base_uri": "https://localhost:8080/"
        },
        "id": "snGjbl4Zj8Zo",
        "outputId": "7f1197e3-8286-4930-8c72-5ebc1f069e48"
      },
      "outputs": [
        {
          "output_type": "stream",
          "name": "stderr",
          "text": [
            " 92%|█████████▏| 24/26 [54:06<07:50, 235.15s/it]"
          ]
        }
      ],
      "source": [
        "from PIL import Image\n",
        "import torchvision.transforms.functional as TF\n",
        "all_inputs = []\n",
        "all_labels = []\n",
        "all_preds = []\n",
        "\n",
        "create_or_clear_folder(os.path.join(\"TestImage\"))\n",
        "\n",
        "model.eval()\n",
        "with tqdm(enumerate(test_dataloader), total=len(test_dataloader)) as tepoch:\n",
        "    for j, (input_sequences, target_sequences, times) in tepoch:\n",
        "\n",
        "        input_sequences = input_sequences.to(device)\n",
        "        target_sequences = target_sequences.to(device)\n",
        "        times = times.to(device)\n",
        "\n",
        "        #\n",
        "        layer_output_list, _ = model(input_sequences, times)\n",
        "        output_sequences = layer_output_list[-1][:,-target_sequences.size(1):]  # Take the output of the last layer\n",
        "\n",
        "        for k in range(len(input_sequences)):\n",
        "            for i, img in enumerate(input_sequences[k].detach().cpu()):\n",
        "                img = img.clamp(0, 1)\n",
        "                img = TF.to_pil_image(img)\n",
        "                plt.subplot(3, 6, i+1)\n",
        "                plt.imshow(img, cmap='gray')\n",
        "                plt.axis('off')  # Do not display coordinate axes\n",
        "                plt.title(f'Input-{i+1}')\n",
        "\n",
        "            for i, img in enumerate(target_sequences[k].detach().cpu()):\n",
        "                img = img.clamp(0, 1)\n",
        "                img = TF.to_pil_image(img)\n",
        "                plt.subplot(3, 6, i+1+6)\n",
        "                plt.imshow(img, cmap='gray')\n",
        "                plt.axis('off')  # Do not display coordinate axes\n",
        "                plt.title(f'Target-{i+1}')\n",
        "\n",
        "            for i, img in enumerate(output_sequences[k].detach().cpu()):\n",
        "                img = img.clamp(0, 1)\n",
        "                img = TF.to_pil_image(img)\n",
        "                plt.subplot(3, 6, i+1+6+3)\n",
        "                plt.imshow(img, cmap='gray')\n",
        "                plt.axis('off')  # Do not display coordinate axes\n",
        "                plt.title(f'Prediction-{i+1}')\n",
        "            # Draw the difference between the target image and the predicted image\n",
        "            for i, (target_img, output_img) in enumerate(zip(target_sequences[k], output_sequences[k])):\n",
        "                # Calculated difference\n",
        "                diff = torch.abs(target_img - output_img)\n",
        "                diff = diff.clamp(0, 1)  # Make sure the difference is within a valid range\n",
        "                diff = TF.to_pil_image(diff)\n",
        "                # Draw a difference image\n",
        "                plt.subplot(3, 6, i+1+12)  # Adjust the position of the subgraph\n",
        "                plt.imshow(diff, cmap='gray')\n",
        "                plt.axis('off')\n",
        "                plt.title(f'Difference-{i+1}')\n",
        "\n",
        "            # Adjust the spacing of subgraphs\n",
        "            plt.tight_layout()\n",
        "\n",
        "            # Save or display the image\n",
        "            plt.savefig(os.path.join(\"TestImage\", f\"Sample-{k}-{j}.jpg\"))  # Save image"
      ]
    },
    {
      "cell_type": "markdown",
      "source": [],
      "metadata": {
        "id": "h3P5-cMFJkN2"
      }
    },
    {
      "cell_type": "code",
      "source": [
        "from PIL import Image\n",
        "import torchvision.transforms.functional as TF\n",
        "import matplotlib.pyplot as plt\n",
        "from tqdm import tqdm\n",
        "\n",
        "# Initialize cumulative difference and image count\n",
        "total_diff = 0\n",
        "total_images = 0\n",
        "\n",
        "model.eval()\n",
        "with tqdm(enumerate(test_dataloader), total=len(test_dataloader)) as tepoch:\n",
        "    for j, (input_sequences, target_sequences, times) in tepoch:\n",
        "        input_sequences = input_sequences.to(device)\n",
        "        target_sequences = target_sequences.to(device)\n",
        "        times = times.to(device)\n",
        "\n",
        "        # Forward pass\n",
        "        layer_output_list, _ = model(input_sequences, times)\n",
        "        output_sequences = layer_output_list[-1][:, -target_sequences.size(1):]  # Take the output of the last layer\n",
        "\n",
        "        for k in range(len(input_sequences)):\n",
        "            # (Code for generating and saving images)\n",
        "\n",
        "            # Calculate absolute difference and update total difference and image count\n",
        "            diff = torch.abs(target_sequences[k] - output_sequences[k])\n",
        "            total_diff += diff.sum().item()  # Update total difference\n",
        "            total_images += diff.numel()  # Update total number of pixels across all images\n",
        "\n",
        "# Calculate and print Mean Absolute Error (MAE) over all test images\n",
        "mae = total_diff / total_images\n",
        "print(f'Mean Absolute Error (MAE) over all test images: {mae:.4f}')\n"
      ],
      "metadata": {
        "id": "olu3ZUoDIKd-"
      },
      "execution_count": null,
      "outputs": []
    },
    {
      "cell_type": "code",
      "execution_count": null,
      "metadata": {
        "id": "kVqfRwsRj8Zp"
      },
      "outputs": [],
      "source": [
        "# Save the prediction pictures\n",
        "import torchvision.transforms.functional as TF\n",
        "\n",
        "subfolder = os.listdir(data_folder)\n",
        "create_or_clear_folder(\"Result\")\n",
        "for fol in subfolder:\n",
        "    now_sample = []\n",
        "    wind_folder = os.path.join(data_folder, fol)\n",
        "    useful_data = list(set([f[:7] for f in os.listdir(wind_folder) if f.startswith(fol)]))\n",
        "    for name in useful_data:\n",
        "        image_path = os.path.join(wind_folder, name+'.jpg')\n",
        "        json_path = os.path.join(wind_folder, name+'_features.json')\n",
        "        time = eval(json.load(open(json_path,'r'))['relative_time'])\n",
        "        now_sample.append((image_path, time))\n",
        "    now_sample.sort(key=lambda x: x[1])\n",
        "\n",
        "    inp_image = []\n",
        "    inp_time = []\n",
        "    time_start = now_sample[-6][1]\n",
        "    for imgpath, time in now_sample[-6:]:\n",
        "        image = Image.open(imgpath).convert('L')\n",
        "        image = transform(image)\n",
        "        inp_image.append(image)\n",
        "\n",
        "        time_id = (time-time_start)//1000\n",
        "        if time_id > 49:time_id = 49\n",
        "        elif time_id <0:time_id = 0\n",
        "        inp_time.append(time_id)\n",
        "        time_start = time\n",
        "    sequence_images = torch.stack(inp_image).to(device).unsqueeze(0)\n",
        "    times = torch.LongTensor(inp_time).to(device).unsqueeze(0)\n",
        "    layer_output_list, _ = model(sequence_images, times)\n",
        "    output_sequences = layer_output_list[-1][0,-3:].detach().cpu()  # 取最后一层的输出\n",
        "    create_or_clear_folder(os.path.join(\"Result\", fol))\n",
        "    for i, img in enumerate(output_sequences):\n",
        "        img = img.clamp(0, 1)\n",
        "\n",
        "        #\n",
        "        img = TF.to_pil_image(img)\n",
        "        # save images\n",
        "        img.save(os.path.join(\"Result\", fol, \"{}.jpg\".format(i+1)))"
      ]
    },
    {
      "cell_type": "markdown",
      "source": [
        "The memory usage of the colab session crashed, and the fault was rectified later"
      ],
      "metadata": {
        "id": "heIuoidrPPdM"
      }
    },
    {
      "cell_type": "markdown",
      "source": [
        "# Save Zip File to local machine"
      ],
      "metadata": {
        "id": "AfdkU6lXffLi"
      }
    },
    {
      "cell_type": "code",
      "execution_count": 1,
      "metadata": {
        "colab": {
          "base_uri": "https://localhost:8080/",
          "height": 217
        },
        "id": "1dNA63JJj8Zp",
        "outputId": "c96e19e9-092f-451c-f56c-100d8d7eb71d"
      },
      "outputs": [
        {
          "output_type": "error",
          "ename": "NameError",
          "evalue": "name 'shutil' is not defined",
          "traceback": [
            "\u001b[0;31m---------------------------------------------------------------------------\u001b[0m",
            "\u001b[0;31mNameError\u001b[0m                                 Traceback (most recent call last)",
            "\u001b[0;32m<ipython-input-1-a3078f4f0dab>\u001b[0m in \u001b[0;36m<cell line: 1>\u001b[0;34m()\u001b[0m\n\u001b[0;32m----> 1\u001b[0;31m \u001b[0mshutil\u001b[0m\u001b[0;34m.\u001b[0m\u001b[0mmake_archive\u001b[0m\u001b[0;34m(\u001b[0m\u001b[0;34m\"Test_whole_GME\"\u001b[0m\u001b[0;34m,\u001b[0m \u001b[0;34m'zip'\u001b[0m\u001b[0;34m,\u001b[0m \u001b[0;34m\"/content/TestImage\"\u001b[0m\u001b[0;34m)\u001b[0m\u001b[0;34m\u001b[0m\u001b[0;34m\u001b[0m\u001b[0m\n\u001b[0m",
            "\u001b[0;31mNameError\u001b[0m: name 'shutil' is not defined"
          ]
        }
      ],
      "source": [
        "shutil.make_archive(\"Test_whole_GME\", 'zip', \"/content/TestImage\")"
      ]
    },
    {
      "cell_type": "code",
      "source": [
        "from google.colab import files\n",
        "\n",
        "files.download(\"Test_whole_GME.zip\")\n"
      ],
      "metadata": {
        "id": "weZi-bH4I4Hh"
      },
      "execution_count": null,
      "outputs": []
    },
    {
      "cell_type": "markdown",
      "source": [
        "# Version2\n",
        "Add layers"
      ],
      "metadata": {
        "id": "XhCKSRvFk8X-"
      }
    },
    {
      "cell_type": "code",
      "execution_count": null,
      "metadata": {
        "id": "pTlk_fKwACqh"
      },
      "outputs": [],
      "source": [
        "\n",
        "class ConvLSTM_2(nn.Module):\n",
        "\n",
        "    \"\"\"\n",
        "\n",
        "    Parameters:\n",
        "        input_dim: Number of channels in input\n",
        "        hidden_dim: Number of hidden channels\n",
        "        kernel_size: Size of kernel in convolutions\n",
        "        num_layers: Number of LSTM layers stacked on each other\n",
        "        batch_first: Whether or not dimension 0 is the batch or not\n",
        "        bias: Bias or no bias in Convolution\n",
        "        return_all_layers: Return the list of computations for all layers\n",
        "        Note: Will do same padding.\n",
        "\n",
        "    Input:\n",
        "        A tensor of size B, T, C, H, W or T, B, C, H, W\n",
        "    Output:\n",
        "        A tuple of two lists of length num_layers (or length 1 if return_all_layers is False).\n",
        "            0 - layer_output_list is the list of lists of length T of each output\n",
        "            1 - last_state_list is the list of last states\n",
        "                    each element of the list is a tuple (h, c) for hidden state and memory\n",
        "    Example:\n",
        "        >> x = torch.rand((32, 10, 64, 128, 128))\n",
        "        >> convlstm = ConvLSTM(64, 16, 3, 1, True, True, False)\n",
        "        >> _, last_states = convlstm(x)\n",
        "        >> h = last_states[0][0]  # 0 for layer index, 0 for h index\n",
        "    \"\"\"\n",
        "\n",
        "    def __init__(\n",
        "        self,\n",
        "        input_dim=1,\n",
        "        hidden_dim=[16, 8, 8, 1],\n",
        "        kernel_size=[5, 3, 3, 3],\n",
        "        num_layers=4,\n",
        "        batch_first=True,\n",
        "        bias=True,\n",
        "        return_all_layers=True,\n",
        "    ):\n",
        "        super(ConvLSTM_2, self).__init__()\n",
        "\n",
        "        # Make sure that both `kernel_size` and `hidden_dim` are lists having len == num_layers\n",
        "        if not len(kernel_size) == len(hidden_dim) == num_layers:\n",
        "            raise ValueError(\"Inconsistent list length.\")\n",
        "\n",
        "        self.input_dim = input_dim\n",
        "        self.hidden_dim = hidden_dim\n",
        "        self.kernel_size = kernel_size\n",
        "        self.num_layers = num_layers\n",
        "        self.batch_first = batch_first\n",
        "        self.bias = bias\n",
        "        self.return_all_layers = return_all_layers\n",
        "\n",
        "        # Add and initialize parameters\n",
        "        self.time_embedding = nn.Parameter(\n",
        "            torch.zeros(50, 1, 366, 366), requires_grad=True\n",
        "        )\n",
        "\n",
        "        cell_list = []\n",
        "        for i in range(0, self.num_layers):\n",
        "            cur_input_dim = self.input_dim if i == 0 else self.hidden_dim[i - 1]\n",
        "\n",
        "            cell_list.append(\n",
        "                ConvLSTMCell(\n",
        "                    input_dim=cur_input_dim,\n",
        "                    hidden_dim=self.hidden_dim[i],\n",
        "                    kernel_size=self.kernel_size[i],\n",
        "                    bias=self.bias,\n",
        "                )\n",
        "            )\n",
        "\n",
        "        self.cell_list = nn.ModuleList(cell_list)\n",
        "\n",
        "    def forward(self, input_tensor, times, hidden_state=None):\n",
        "        \"\"\"\n",
        "\n",
        "        Parameters\n",
        "        ----------\n",
        "        input_tensor: todo\n",
        "            5-D Tensor either of shape (t, b, c, h, w) or (b, t, c, h, w)\n",
        "        hidden_state: todo\n",
        "            None. todo implement stateful\n",
        "\n",
        "        Returns\n",
        "        -------\n",
        "        last_state_list, layer_output\n",
        "        \"\"\"\n",
        "        if not self.batch_first:\n",
        "            # (t, b, c, h, w) -> (b, t, c, h, w)\n",
        "            input_tensor = input_tensor.permute(1, 0, 2, 3, 4)\n",
        "\n",
        "        b, _, _, h, w = input_tensor.size()\n",
        "\n",
        "        # Implement stateful ConvLSTM\n",
        "        if hidden_state is not None:\n",
        "            raise NotImplementedError()\n",
        "        else:\n",
        "            # Since the init is done in forward. Can send image size here\n",
        "            hidden_state = self._init_hidden(batch_size=b, image_size=(h, w))\n",
        "\n",
        "        layer_output_list = []\n",
        "        last_state_list = []\n",
        "\n",
        "        seq_len = input_tensor.size(1)\n",
        "        cur_layer_input = (\n",
        "            input_tensor + self.time_embedding[times[:, : input_tensor.size(1)]]\n",
        "        )\n",
        "\n",
        "        for layer_idx in range(self.num_layers):\n",
        "            h, c = hidden_state[layer_idx]\n",
        "            output_inner = []\n",
        "            for t in range(seq_len):\n",
        "                h, c = self.cell_list[layer_idx](\n",
        "                    input_tensor=cur_layer_input[:, t, :, :, :], cur_state=[h, c]\n",
        "                )\n",
        "                output_inner.append(h)\n",
        "\n",
        "            layer_output = torch.stack(output_inner, dim=1)\n",
        "            cur_layer_input = layer_output\n",
        "\n",
        "            layer_output_list.append(layer_output)\n",
        "            last_state_list.append([h, c])\n",
        "\n",
        "        if not self.return_all_layers:\n",
        "            layer_output_list = layer_output_list[-1:]\n",
        "            last_state_list = last_state_list[-1:]\n",
        "\n",
        "        return layer_output_list, last_state_list\n",
        "\n",
        "    def _init_hidden(self, batch_size, image_size):\n",
        "        init_states = []\n",
        "        for i in range(self.num_layers):\n",
        "            init_states.append(self.cell_list[i].init_hidden(batch_size, image_size))\n",
        "        return init_states"
      ]
    },
    {
      "cell_type": "code",
      "source": [
        "num_epochs = 10\n",
        "model = ConvLSTM_2()\n",
        "model.to(device)\n",
        "\n",
        "criterion = nn.MSELoss()\n",
        "optimizer = torch.optim.Adam(model.parameters(), lr=5e-4)"
      ],
      "metadata": {
        "id": "Hz4QeB4vy37Y"
      },
      "execution_count": null,
      "outputs": []
    },
    {
      "cell_type": "code",
      "source": [
        "model"
      ],
      "metadata": {
        "colab": {
          "base_uri": "https://localhost:8080/"
        },
        "id": "ZsXtsJGF1dZw",
        "outputId": "5c2542e1-21fa-4296-9d63-6ab216f0c88a"
      },
      "execution_count": null,
      "outputs": [
        {
          "output_type": "execute_result",
          "data": {
            "text/plain": [
              "ConvLSTM_2(\n",
              "  (cell_list): ModuleList(\n",
              "    (0): ConvLSTMCell(\n",
              "      (conv): Conv2d(17, 64, kernel_size=(5, 5), stride=(1, 1), padding=(2, 2))\n",
              "    )\n",
              "    (1): ConvLSTMCell(\n",
              "      (conv): Conv2d(24, 32, kernel_size=(3, 3), stride=(1, 1), padding=(1, 1))\n",
              "    )\n",
              "    (2): ConvLSTMCell(\n",
              "      (conv): Conv2d(16, 32, kernel_size=(3, 3), stride=(1, 1), padding=(1, 1))\n",
              "    )\n",
              "    (3): ConvLSTMCell(\n",
              "      (conv): Conv2d(9, 4, kernel_size=(3, 3), stride=(1, 1), padding=(1, 1))\n",
              "    )\n",
              "  )\n",
              ")"
            ]
          },
          "metadata": {},
          "execution_count": 21
        }
      ]
    },
    {
      "cell_type": "code",
      "source": [
        "best_epoch_loss = float(\"inf\")\n",
        "for epoch in range(num_epochs):\n",
        "    epoch_loss = 0.0\n",
        "    with tqdm(\n",
        "        enumerate(dataloader),\n",
        "        total=len(dataloader),\n",
        "        desc=f\"Epoch {epoch + 1}/{num_epochs}\",\n",
        "    ) as tepoch:\n",
        "        for i, (input_sequences, target_sequences, times) in tepoch:\n",
        "            input_sequences = input_sequences.to(device)\n",
        "            target_sequences = target_sequences.to(device)\n",
        "            times = times.to(device)\n",
        "\n",
        "            optimizer.zero_grad()\n",
        "\n",
        "            # Forward\n",
        "            layer_output_list, _ = model(input_sequences, times)\n",
        "            output_sequences = layer_output_list[-1][\n",
        "                :, -target_sequences.size(1) :\n",
        "            ]  # Get the output of the last layer\n",
        "\n",
        "            # calculate loss\n",
        "            loss = criterion(output_sequences, target_sequences)\n",
        "            epoch_loss += loss.item()\n",
        "\n",
        "            # backward and optimizer\n",
        "            loss.backward()\n",
        "            optimizer.step()\n",
        "\n",
        "            # Update the progress bar\n",
        "            tepoch.set_postfix(loss=epoch_loss / (i + 1))\n",
        "\n",
        "    average_epoch_loss = epoch_loss / len(dataloader)\n",
        "    print(f\"Average Loss for Epoch {epoch + 1}: {average_epoch_loss:.4f}\")\n",
        "\n",
        "    # Check if it is the best model\n",
        "    if average_epoch_loss < best_epoch_loss:\n",
        "        best_epoch_loss = average_epoch_loss\n",
        "        # save model\n",
        "        torch.save(model.state_dict(), \"add_layer_model.pth\")"
      ],
      "metadata": {
        "colab": {
          "base_uri": "https://localhost:8080/"
        },
        "id": "bS-VZ-mX0gnw",
        "outputId": "d5e3e55d-8d9f-416e-d531-fdf9e6e62474"
      },
      "execution_count": null,
      "outputs": [
        {
          "metadata": {
            "tags": null
          },
          "name": "stderr",
          "output_type": "stream",
          "text": [
            "Epoch 1/10: 100%|██████████| 1161/1161 [20:45<00:00,  1.07s/it, loss=0.0168]\n"
          ]
        },
        {
          "metadata": {
            "tags": null
          },
          "name": "stdout",
          "output_type": "stream",
          "text": [
            "Average Loss for Epoch 1: 0.0168\n"
          ]
        },
        {
          "metadata": {
            "tags": null
          },
          "name": "stderr",
          "output_type": "stream",
          "text": [
            "Epoch 2/10: 100%|██████████| 1161/1161 [19:45<00:00,  1.02s/it, loss=0.0132]\n"
          ]
        },
        {
          "metadata": {
            "tags": null
          },
          "name": "stdout",
          "output_type": "stream",
          "text": [
            "Average Loss for Epoch 2: 0.0132\n"
          ]
        },
        {
          "metadata": {
            "tags": null
          },
          "name": "stderr",
          "output_type": "stream",
          "text": [
            "Epoch 3/10: 100%|██████████| 1161/1161 [19:46<00:00,  1.02s/it, loss=0.0128]\n"
          ]
        },
        {
          "metadata": {
            "tags": null
          },
          "name": "stdout",
          "output_type": "stream",
          "text": [
            "Average Loss for Epoch 3: 0.0128\n"
          ]
        },
        {
          "metadata": {
            "tags": null
          },
          "name": "stderr",
          "output_type": "stream",
          "text": [
            "Epoch 4/10: 100%|██████████| 1161/1161 [19:46<00:00,  1.02s/it, loss=0.0124]\n"
          ]
        },
        {
          "metadata": {
            "tags": null
          },
          "name": "stdout",
          "output_type": "stream",
          "text": [
            "Average Loss for Epoch 4: 0.0124\n"
          ]
        },
        {
          "metadata": {
            "tags": null
          },
          "name": "stderr",
          "output_type": "stream",
          "text": [
            "Epoch 5/10: 100%|██████████| 1161/1161 [19:46<00:00,  1.02s/it, loss=0.0122]\n"
          ]
        },
        {
          "metadata": {
            "tags": null
          },
          "name": "stdout",
          "output_type": "stream",
          "text": [
            "Average Loss for Epoch 5: 0.0122\n"
          ]
        },
        {
          "metadata": {
            "tags": null
          },
          "name": "stderr",
          "output_type": "stream",
          "text": [
            "Epoch 6/10: 100%|██████████| 1161/1161 [19:46<00:00,  1.02s/it, loss=0.0121]\n"
          ]
        },
        {
          "metadata": {
            "tags": null
          },
          "name": "stdout",
          "output_type": "stream",
          "text": [
            "Average Loss for Epoch 6: 0.0121\n"
          ]
        },
        {
          "metadata": {
            "tags": null
          },
          "name": "stderr",
          "output_type": "stream",
          "text": [
            "Epoch 7/10: 100%|██████████| 1161/1161 [19:45<00:00,  1.02s/it, loss=0.012]\n"
          ]
        },
        {
          "metadata": {
            "tags": null
          },
          "name": "stdout",
          "output_type": "stream",
          "text": [
            "Average Loss for Epoch 7: 0.0120\n"
          ]
        },
        {
          "metadata": {
            "tags": null
          },
          "name": "stderr",
          "output_type": "stream",
          "text": [
            "Epoch 8/10: 100%|██████████| 1161/1161 [19:45<00:00,  1.02s/it, loss=0.0119]\n"
          ]
        },
        {
          "metadata": {
            "tags": null
          },
          "name": "stdout",
          "output_type": "stream",
          "text": [
            "Average Loss for Epoch 8: 0.0119\n"
          ]
        },
        {
          "metadata": {
            "tags": null
          },
          "name": "stderr",
          "output_type": "stream",
          "text": [
            "Epoch 9/10: 100%|██████████| 1161/1161 [19:46<00:00,  1.02s/it, loss=0.0118]\n"
          ]
        },
        {
          "metadata": {
            "tags": null
          },
          "name": "stdout",
          "output_type": "stream",
          "text": [
            "Average Loss for Epoch 9: 0.0118\n"
          ]
        },
        {
          "output_type": "stream",
          "name": "stderr",
          "text": [
            "Epoch 10/10: 100%|██████████| 1161/1161 [19:46<00:00,  1.02s/it, loss=0.0118]\n"
          ]
        },
        {
          "output_type": "stream",
          "name": "stdout",
          "text": [
            "Average Loss for Epoch 10: 0.0118\n"
          ]
        }
      ]
    },
    {
      "cell_type": "code",
      "source": [
        "# save predicted images\n",
        "\n",
        "subfolder = os.listdir(data_folder)\n",
        "create_or_clear_folder(\"Result2\")\n",
        "for fol in subfolder:\n",
        "    now_sample = []\n",
        "    wind_folder = os.path.join(data_folder, fol)\n",
        "    useful_data = list(\n",
        "        set([f[:7] for f in os.listdir(wind_folder) if f.startswith(fol)])\n",
        "    )\n",
        "    for name in useful_data:\n",
        "        image_path = os.path.join(wind_folder, name + \".jpg\")\n",
        "        json_path = os.path.join(wind_folder, name + \"_features.json\")\n",
        "        time = eval(json.load(open(json_path, \"r\"))[\"relative_time\"])\n",
        "        now_sample.append((image_path, time))\n",
        "    now_sample.sort(key=lambda x: x[1])\n",
        "\n",
        "    inp_image = []\n",
        "    inp_time = []\n",
        "    time_start = now_sample[-6][1]\n",
        "    for imgpath, time in now_sample[-6:]:\n",
        "        image = Image.open(imgpath).convert(\"L\")\n",
        "        image = transform(image)\n",
        "        inp_image.append(image)\n",
        "\n",
        "        time_id = (time - time_start) // 1000\n",
        "        if time_id > 49:\n",
        "            time_id = 49\n",
        "        elif time_id < 0:\n",
        "            time_id = 0\n",
        "        inp_time.append(time_id)\n",
        "        time_start = time\n",
        "    sequence_images = torch.stack(inp_image).to(device).unsqueeze(0)\n",
        "    times = torch.LongTensor(inp_time).to(device).unsqueeze(0)\n",
        "    layer_output_list, _ = model(sequence_images, times)\n",
        "    output_sequences = layer_output_list[-1][0, -3:].detach().cpu()  # The output of the last layer\n",
        "    create_or_clear_folder(os.path.join(\"Result2\", fol))\n",
        "    for i, img in enumerate(output_sequences):\n",
        "        img = img.clamp(0, 1)\n",
        "\n",
        "        # Convert Tensor to PIL image\n",
        "        img = TF.to_pil_image(img)\n",
        "        #\n",
        "        img.save(os.path.join(\"Result2\", fol, \"{}.jpg\".format(i + 1)))"
      ],
      "metadata": {
        "id": "twwq85pSDkc1"
      },
      "execution_count": null,
      "outputs": []
    },
    {
      "cell_type": "markdown",
      "source": [
        "# Someting need to do\n",
        "\n",
        "\n",
        "1.   To adjust hyperparameters, try changing lr,bs,epoch....\n",
        "2.   Tweaking code structure design -pipeline\n",
        "\n"
      ],
      "metadata": {
        "id": "I0UOKju-nXSM"
      }
    }
  ],
  "metadata": {
    "kernelspec": {
      "display_name": "Python 3",
      "name": "python3"
    },
    "language_info": {
      "codemirror_mode": {
        "name": "ipython",
        "version": 3
      },
      "file_extension": ".py",
      "mimetype": "text/x-python",
      "name": "python",
      "nbconvert_exporter": "python",
      "pygments_lexer": "ipython3",
      "version": "3.8.15"
    },
    "colab": {
      "provenance": [],
      "gpuType": "T4"
    },
    "accelerator": "GPU"
  },
  "nbformat": 4,
  "nbformat_minor": 0
}